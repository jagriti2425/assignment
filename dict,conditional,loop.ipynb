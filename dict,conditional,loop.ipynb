{
 "cells": [
  {
   "cell_type": "code",
   "execution_count": 2,
   "id": "d777af17-495e-4fb0-8029-5f4d84ba6f02",
   "metadata": {},
   "outputs": [],
   "source": [
    "d = {}"
   ]
  },
  {
   "cell_type": "code",
   "execution_count": 3,
   "id": "521d30fc-5b5f-4e37-955f-add15031638a",
   "metadata": {},
   "outputs": [
    {
     "data": {
      "text/plain": [
       "dict"
      ]
     },
     "execution_count": 3,
     "metadata": {},
     "output_type": "execute_result"
    }
   ],
   "source": [
    "type(d)"
   ]
  },
  {
   "cell_type": "code",
   "execution_count": 1,
   "id": "22438052-a9ab-4577-8876-c323c13b8d1a",
   "metadata": {},
   "outputs": [],
   "source": [
    "d1= {'key': \"jagriti\"}"
   ]
  },
  {
   "cell_type": "code",
   "execution_count": 2,
   "id": "2cd6642d-ae7a-475a-899e-18f14afa3314",
   "metadata": {},
   "outputs": [
    {
     "data": {
      "text/plain": [
       "{'key': 'jagriti'}"
      ]
     },
     "execution_count": 2,
     "metadata": {},
     "output_type": "execute_result"
    }
   ],
   "source": [
    "d1"
   ]
  },
  {
   "cell_type": "code",
   "execution_count": 3,
   "id": "9fa6755d-6c25-4589-8fb2-f795077359de",
   "metadata": {},
   "outputs": [],
   "source": [
    "d2={\"name\": \" jagriti\", \"email\" : \"jag2002@gmail.com\", \"number\" : 798650987}"
   ]
  },
  {
   "cell_type": "code",
   "execution_count": 4,
   "id": "3147165c-9932-4a56-a81f-f02f9e462fd1",
   "metadata": {},
   "outputs": [
    {
     "data": {
      "text/plain": [
       "{'name': ' jagriti', 'email': 'jag2002@gmail.com', 'number': 798650987}"
      ]
     },
     "execution_count": 4,
     "metadata": {},
     "output_type": "execute_result"
    }
   ],
   "source": [
    "d2"
   ]
  },
  {
   "cell_type": "code",
   "execution_count": 5,
   "id": "f8907d1e-16d4-417d-9f45-b6bd2f09878e",
   "metadata": {},
   "outputs": [],
   "source": [
    "d3={ 2425:\"jagriti\", '_user' : \"singh\" , True: 24258912}"
   ]
  },
  {
   "cell_type": "code",
   "execution_count": 6,
   "id": "62239e16-ce5d-47db-b3c7-ea1230dca8f6",
   "metadata": {},
   "outputs": [
    {
     "data": {
      "text/plain": [
       "{2425: 'jagriti', '_user': 'singh', True: 24258912}"
      ]
     },
     "execution_count": 6,
     "metadata": {},
     "output_type": "execute_result"
    }
   ],
   "source": [
    "d3"
   ]
  },
  {
   "cell_type": "code",
   "execution_count": 10,
   "id": "dcd6b928-5063-4e37-b1a8-7a0cd6969f8e",
   "metadata": {},
   "outputs": [
    {
     "data": {
      "text/plain": [
       "'jagriti'"
      ]
     },
     "execution_count": 10,
     "metadata": {},
     "output_type": "execute_result"
    }
   ],
   "source": [
    "d3[2425]"
   ]
  },
  {
   "cell_type": "code",
   "execution_count": 11,
   "id": "f8c9b7a9-fd73-4243-9233-ede9ed7f646e",
   "metadata": {},
   "outputs": [
    {
     "data": {
      "text/plain": [
       "24258912"
      ]
     },
     "execution_count": 11,
     "metadata": {},
     "output_type": "execute_result"
    }
   ],
   "source": [
    "d3[1]"
   ]
  },
  {
   "cell_type": "code",
   "execution_count": 12,
   "id": "6144c3b4-b552-4545-af45-1a8f382f2152",
   "metadata": {},
   "outputs": [
    {
     "data": {
      "text/plain": [
       "24258912"
      ]
     },
     "execution_count": 12,
     "metadata": {},
     "output_type": "execute_result"
    }
   ],
   "source": [
    "d3[True]"
   ]
  },
  {
   "cell_type": "code",
   "execution_count": 13,
   "id": "7f260e0e-6d1f-4615-9248-19bb6eb4060b",
   "metadata": {},
   "outputs": [],
   "source": [
    "d4={\"name\": \"jagriti\", \"mail_id\" : \"jag2002@gmail.com\", \"name\" : \"jagritisingh\"}"
   ]
  },
  {
   "cell_type": "code",
   "execution_count": 14,
   "id": "ef05e03a-a139-45de-ab43-f456508acbf6",
   "metadata": {},
   "outputs": [
    {
     "data": {
      "text/plain": [
       "{'name': 'jagritisingh', 'mail_id': 'jag2002@gmail.com'}"
      ]
     },
     "execution_count": 14,
     "metadata": {},
     "output_type": "execute_result"
    }
   ],
   "source": [
    "d4"
   ]
  },
  {
   "cell_type": "code",
   "execution_count": 16,
   "id": "2a80c499-5749-45a5-a724-aa5d2004adab",
   "metadata": {},
   "outputs": [
    {
     "data": {
      "text/plain": [
       "'jagritisingh'"
      ]
     },
     "execution_count": 16,
     "metadata": {},
     "output_type": "execute_result"
    }
   ],
   "source": [
    "d4[\"name\"]"
   ]
  },
  {
   "cell_type": "code",
   "execution_count": 17,
   "id": "c15c975e-2057-45fc-bbf2-07614f7d1994",
   "metadata": {},
   "outputs": [
    {
     "data": {
      "text/plain": [
       "'jagritisingh'"
      ]
     },
     "execution_count": 17,
     "metadata": {},
     "output_type": "execute_result"
    }
   ],
   "source": [
    "d4[\"name\"]"
   ]
  },
  {
   "cell_type": "code",
   "execution_count": 18,
   "id": "6d4c32f0-0f11-439a-8210-75d9d74e8c4f",
   "metadata": {},
   "outputs": [],
   "source": [
    "d5={\"company\" : \"pwskills\", \"course\" : [\"web dev\",\"data science\", \"java with dsa system design \"]}"
   ]
  },
  {
   "cell_type": "code",
   "execution_count": 19,
   "id": "5ce99bd4-0e36-4e1b-85ba-0bbdd0c2c3e8",
   "metadata": {},
   "outputs": [
    {
     "data": {
      "text/plain": [
       "{'company': 'pwskills',\n",
       " 'course': ['web dev', 'data science', 'java with dsa system design ']}"
      ]
     },
     "execution_count": 19,
     "metadata": {},
     "output_type": "execute_result"
    }
   ],
   "source": [
    "d5"
   ]
  },
  {
   "cell_type": "code",
   "execution_count": 20,
   "id": "e78053f9-f9a1-4b1f-ab20-25fc1379b3a3",
   "metadata": {},
   "outputs": [
    {
     "data": {
      "text/plain": [
       "['web dev', 'data science', 'java with dsa system design ']"
      ]
     },
     "execution_count": 20,
     "metadata": {},
     "output_type": "execute_result"
    }
   ],
   "source": [
    "d5[\"course\"]"
   ]
  },
  {
   "cell_type": "code",
   "execution_count": 21,
   "id": "d13768e9-c66e-4120-917a-9b11866d009b",
   "metadata": {},
   "outputs": [
    {
     "data": {
      "text/plain": [
       "'java with dsa system design '"
      ]
     },
     "execution_count": 21,
     "metadata": {},
     "output_type": "execute_result"
    }
   ],
   "source": [
    "d5[\"course\"][2]"
   ]
  },
  {
   "cell_type": "code",
   "execution_count": 10,
   "id": "8eefb340-171b-4efb-8ad6-6327e9d7a957",
   "metadata": {},
   "outputs": [],
   "source": [
    "d6 = {\"number\": [2,4,5,24,25,2425], \"assignment\":(1,2,3,4,5),\"launch_date\" :{28,14,22},\"class_time\" :{\"web_dev\" : 8 ,\"Data science master \": 8, \"java with dsa and system design\":7} }"
   ]
  },
  {
   "cell_type": "code",
   "execution_count": 5,
   "id": "0a5f282d-96f7-4782-bcf9-9e70ffa94fb5",
   "metadata": {},
   "outputs": [],
   "source": [
    "d6 = {\"number\": [2,4,5,24,25,2425] , \"assignment\":(1,2,3,4,5) , \"launch_date\" :{28,14,22} , \"class_time\" : {\"web_dev\" : 8 ,\"Data science master \": 8, \"java with dsa and system design\":7} } "
   ]
  },
  {
   "cell_type": "code",
   "execution_count": 6,
   "id": "308956f0-8b94-4337-bec7-64a66567276e",
   "metadata": {},
   "outputs": [
    {
     "data": {
      "text/plain": [
       "{'number': [2, 4, 5, 24, 25, 2425],\n",
       " 'assignment': (1, 2, 3, 4, 5),\n",
       " 'launch_date': {14, 22, 28},\n",
       " 'class_time': {'web_dev': 8,\n",
       "  'Data science master ': 8,\n",
       "  'java with dsa and system design': 7}}"
      ]
     },
     "execution_count": 6,
     "metadata": {},
     "output_type": "execute_result"
    }
   ],
   "source": [
    "d6"
   ]
  },
  {
   "cell_type": "code",
   "execution_count": 9,
   "id": "4eba79fb-4943-49f7-b02b-b60d9c048549",
   "metadata": {},
   "outputs": [
    {
     "data": {
      "text/plain": [
       "7"
      ]
     },
     "execution_count": 9,
     "metadata": {},
     "output_type": "execute_result"
    }
   ],
   "source": [
    "d6 [\"class_time\"][\"java with dsa and system design\"]"
   ]
  },
  {
   "cell_type": "code",
   "execution_count": 11,
   "id": "174da8e1-31a6-4db8-ad10-3cf031b58736",
   "metadata": {},
   "outputs": [],
   "source": [
    "d6[\"mentor\"] = [\"harsh\",\"diksha\",\"omjee\",\"muskan\"]"
   ]
  },
  {
   "cell_type": "code",
   "execution_count": 12,
   "id": "eadb8c75-3517-45f0-a704-ba48cafa2d24",
   "metadata": {},
   "outputs": [
    {
     "data": {
      "text/plain": [
       "{'number': [2, 4, 5, 24, 25, 2425],\n",
       " 'assignment': (1, 2, 3, 4, 5),\n",
       " 'launch_date': {14, 22, 28},\n",
       " 'class_time': {'web_dev': 8,\n",
       "  'Data science master ': 8,\n",
       "  'java with dsa and system design': 7},\n",
       " 'mentor': ['harsh', 'diksha', 'omjee', 'muskan']}"
      ]
     },
     "execution_count": 12,
     "metadata": {},
     "output_type": "execute_result"
    }
   ],
   "source": [
    "d6"
   ]
  },
  {
   "cell_type": "code",
   "execution_count": 13,
   "id": "ed09a8af-d88d-4510-a814-8087c14875c4",
   "metadata": {},
   "outputs": [],
   "source": [
    "del d6[\"number\"]"
   ]
  },
  {
   "cell_type": "code",
   "execution_count": 14,
   "id": "59a6ce75-25fa-4428-8af3-0f34b8dc27f1",
   "metadata": {},
   "outputs": [
    {
     "data": {
      "text/plain": [
       "{'assignment': (1, 2, 3, 4, 5),\n",
       " 'launch_date': {14, 22, 28},\n",
       " 'class_time': {'web_dev': 8,\n",
       "  'Data science master ': 8,\n",
       "  'java with dsa and system design': 7},\n",
       " 'mentor': ['harsh', 'diksha', 'omjee', 'muskan']}"
      ]
     },
     "execution_count": 14,
     "metadata": {},
     "output_type": "execute_result"
    }
   ],
   "source": [
    "d6"
   ]
  },
  {
   "cell_type": "code",
   "execution_count": 15,
   "id": "a0a04186-190c-46e5-a129-8f72a42bf28b",
   "metadata": {},
   "outputs": [
    {
     "data": {
      "text/plain": [
       "dict_keys(['assignment', 'launch_date', 'class_time', 'mentor'])"
      ]
     },
     "execution_count": 15,
     "metadata": {},
     "output_type": "execute_result"
    }
   ],
   "source": [
    "d6.keys()"
   ]
  },
  {
   "cell_type": "code",
   "execution_count": 16,
   "id": "7cd1f5ff-cd84-4c92-bd5d-81345edcf5b8",
   "metadata": {},
   "outputs": [
    {
     "data": {
      "text/plain": [
       "['assignment', 'launch_date', 'class_time', 'mentor']"
      ]
     },
     "execution_count": 16,
     "metadata": {},
     "output_type": "execute_result"
    }
   ],
   "source": [
    "list(d6.keys())"
   ]
  },
  {
   "cell_type": "code",
   "execution_count": 17,
   "id": "75f3c8dc-6fcd-47ce-80eb-e498e0b5850e",
   "metadata": {},
   "outputs": [
    {
     "data": {
      "text/plain": [
       "dict_values([(1, 2, 3, 4, 5), {28, 14, 22}, {'web_dev': 8, 'Data science master ': 8, 'java with dsa and system design': 7}, ['harsh', 'diksha', 'omjee', 'muskan']])"
      ]
     },
     "execution_count": 17,
     "metadata": {},
     "output_type": "execute_result"
    }
   ],
   "source": [
    "d6.values()"
   ]
  },
  {
   "cell_type": "code",
   "execution_count": 18,
   "id": "d400adc7-5807-406e-9956-bc779124f209",
   "metadata": {},
   "outputs": [
    {
     "data": {
      "text/plain": [
       "[(1, 2, 3, 4, 5),\n",
       " {14, 22, 28},\n",
       " {'web_dev': 8,\n",
       "  'Data science master ': 8,\n",
       "  'java with dsa and system design': 7},\n",
       " ['harsh', 'diksha', 'omjee', 'muskan']]"
      ]
     },
     "execution_count": 18,
     "metadata": {},
     "output_type": "execute_result"
    }
   ],
   "source": [
    "list(d6.values())"
   ]
  },
  {
   "cell_type": "code",
   "execution_count": 19,
   "id": "4514e170-7cd5-474d-951d-2958b7228bfe",
   "metadata": {},
   "outputs": [
    {
     "data": {
      "text/plain": [
       "dict_items([('assignment', (1, 2, 3, 4, 5)), ('launch_date', {28, 14, 22}), ('class_time', {'web_dev': 8, 'Data science master ': 8, 'java with dsa and system design': 7}), ('mentor', ['harsh', 'diksha', 'omjee', 'muskan'])])"
      ]
     },
     "execution_count": 19,
     "metadata": {},
     "output_type": "execute_result"
    }
   ],
   "source": [
    "d6.items()"
   ]
  },
  {
   "cell_type": "code",
   "execution_count": 20,
   "id": "b8bb0900-9807-475c-bda5-6ad31310fed6",
   "metadata": {},
   "outputs": [
    {
     "data": {
      "text/plain": [
       "[('assignment', (1, 2, 3, 4, 5)),\n",
       " ('launch_date', {14, 22, 28}),\n",
       " ('class_time',\n",
       "  {'web_dev': 8,\n",
       "   'Data science master ': 8,\n",
       "   'java with dsa and system design': 7}),\n",
       " ('mentor', ['harsh', 'diksha', 'omjee', 'muskan'])]"
      ]
     },
     "execution_count": 20,
     "metadata": {},
     "output_type": "execute_result"
    }
   ],
   "source": [
    "list(d6.items())"
   ]
  },
  {
   "cell_type": "code",
   "execution_count": 21,
   "id": "58e51e53-8f5f-43b8-88cc-c5143d7fe3d6",
   "metadata": {},
   "outputs": [
    {
     "data": {
      "text/plain": [
       "(1, 2, 3, 4, 5)"
      ]
     },
     "execution_count": 21,
     "metadata": {},
     "output_type": "execute_result"
    }
   ],
   "source": [
    "d6.pop('assignment')"
   ]
  },
  {
   "cell_type": "code",
   "execution_count": 22,
   "id": "719bafae-f371-41ba-b65a-01915c87259a",
   "metadata": {},
   "outputs": [
    {
     "data": {
      "text/plain": [
       "{'launch_date': {14, 22, 28},\n",
       " 'class_time': {'web_dev': 8,\n",
       "  'Data science master ': 8,\n",
       "  'java with dsa and system design': 7},\n",
       " 'mentor': ['harsh', 'diksha', 'omjee', 'muskan']}"
      ]
     },
     "execution_count": 22,
     "metadata": {},
     "output_type": "execute_result"
    }
   ],
   "source": [
    "d6"
   ]
  },
  {
   "cell_type": "code",
   "execution_count": 23,
   "id": "23d6253d-e3f7-47ab-a041-3568e70a7737",
   "metadata": {},
   "outputs": [
    {
     "ename": "TypeError",
     "evalue": "pop expected at least 1 argument, got 0",
     "output_type": "error",
     "traceback": [
      "\u001b[0;31m---------------------------------------------------------------------------\u001b[0m",
      "\u001b[0;31mTypeError\u001b[0m                                 Traceback (most recent call last)",
      "Cell \u001b[0;32mIn[23], line 1\u001b[0m\n\u001b[0;32m----> 1\u001b[0m \u001b[43md6\u001b[49m\u001b[38;5;241;43m.\u001b[39;49m\u001b[43mpop\u001b[49m\u001b[43m(\u001b[49m\u001b[43m)\u001b[49m\n",
      "\u001b[0;31mTypeError\u001b[0m: pop expected at least 1 argument, got 0"
     ]
    }
   ],
   "source": [
    "d6.pop()"
   ]
  },
  {
   "cell_type": "code",
   "execution_count": 27,
   "id": "d10f5bea-9d7d-4572-af58-dc1bb08ee84b",
   "metadata": {},
   "outputs": [
    {
     "name": "stdout",
     "output_type": "stream",
     "text": [
      "you will be a part of A1 batch\n"
     ]
    }
   ],
   "source": [
    "marks = 65\n",
    "if marks >= 80 :\n",
    "    print(\"you will be a part of A0 batch\")\n",
    "elif marks >=60 and marks < 80 :\n",
    "    print(\"you will be a part of A1 batch\")\n",
    "elif marks >=40 and marks < 60 :\n",
    "    print(\"you will be a part of A2 batch\")\n",
    "else :\n",
    "    print(\"you will be a part of A3 batch\")\n"
   ]
  },
  {
   "cell_type": "code",
   "execution_count": null,
   "id": "a2b1b13f-ba2d-47df-ade7-64fd53cd4353",
   "metadata": {},
   "outputs": [],
   "source": [
    "marks = input(\"enter your marks\")\n",
    "if marks >= 80 :\n",
    "    print(\"you will be a part of A0 batch\")\n",
    "elif marks >=60 and marks < 80 :\n",
    "    print(\"you will be a part of A1 batch\")\n",
    "elif marks >=40 and marks < 60 :\n",
    "    print(\"you will be a part of A2 batch\")\n",
    "else :\n",
    "    print(\"you will be a part of A3 batch\")\n"
   ]
  },
  {
   "cell_type": "code",
   "execution_count": null,
   "id": "cf98e6e8-f58e-4f13-90e9-d8ad2fe96962",
   "metadata": {},
   "outputs": [],
   "source": [
    "marks = input(\"enter your marks\")"
   ]
  },
  {
   "cell_type": "code",
   "execution_count": 3,
   "id": "6f63c47b-9095-4319-83b4-47668a852030",
   "metadata": {},
   "outputs": [
    {
     "name": "stdin",
     "output_type": "stream",
     "text": [
      "enter your marks 98\n"
     ]
    },
    {
     "name": "stdout",
     "output_type": "stream",
     "text": [
      "you will be a part of A0 batch\n"
     ]
    }
   ],
   "source": [
    "marks = int(input(\"enter your marks\"))\n",
    "if marks >= 80 :\n",
    "    print(\"you will be a part of A0 batch\")\n",
    "elif marks >=60 and marks < 80 :\n",
    "    print(\"you will be a part of A1 batch\")\n",
    "elif marks >=40 and marks < 60 :\n",
    "    print(\"you will be a part of A2 batch\")\n",
    "else :\n",
    "    print(\"you will be a part of A3 batch\")\n",
    "\n"
   ]
  },
  {
   "cell_type": "code",
   "execution_count": 7,
   "id": "5d91efce-39b7-4af2-9035-c8ba3826afd4",
   "metadata": {},
   "outputs": [
    {
     "name": "stdin",
     "output_type": "stream",
     "text": [
      "enter price 500\n"
     ]
    },
    {
     "name": "stdout",
     "output_type": "stream",
     "text": [
      "i will purchase\n"
     ]
    }
   ],
   "source": [
    "price = int (input(\"enter price\"))\n",
    "if price > 1000:\n",
    "    print(\"i will not purchase\")\n",
    "else :\n",
    "    print(\"i will purchase\")"
   ]
  },
  {
   "cell_type": "code",
   "execution_count": 8,
   "id": "86a98cec-095e-4d69-9425-f17db274a46c",
   "metadata": {},
   "outputs": [
    {
     "name": "stdin",
     "output_type": "stream",
     "text": [
      "enter price 60000000\n"
     ]
    },
    {
     "name": "stdout",
     "output_type": "stream",
     "text": [
      "i will not purchase\n"
     ]
    }
   ],
   "source": [
    "price = int (input(\"enter price\"))\n",
    "if price > 1000:\n",
    "    print(\"i will not purchase\")\n",
    "else :\n",
    "    print(\"i will purchase\")\n"
   ]
  },
  {
   "cell_type": "code",
   "execution_count": 11,
   "id": "b4eb7969-8ad7-4e0a-bd57-be515eeda0d6",
   "metadata": {},
   "outputs": [
    {
     "name": "stdin",
     "output_type": "stream",
     "text": [
      "enter price 1600\n"
     ]
    },
    {
     "name": "stdout",
     "output_type": "stream",
     "text": [
      "i will not purchase\n",
      "its ok\n"
     ]
    }
   ],
   "source": [
    "price = int (input(\"enter price\"))\n",
    "if price > 1000:\n",
    "    print(\"i will not purchase\")\n",
    "    if price > 100000:\n",
    "        print(\"this is too much\")\n",
    "    elif price < 2000:\n",
    "        print(\"its ok\")\n",
    "        "
   ]
  },
  {
   "cell_type": "code",
   "execution_count": 12,
   "id": "5b7a88af-ceae-4c7e-975f-4db066a1a454",
   "metadata": {},
   "outputs": [],
   "source": [
    "l =[1,2,3,4,5,6,7,8,9]"
   ]
  },
  {
   "cell_type": "code",
   "execution_count": 13,
   "id": "1278c5ba-4a22-4685-a07e-0319c5079579",
   "metadata": {},
   "outputs": [
    {
     "data": {
      "text/plain": [
       "2"
      ]
     },
     "execution_count": 13,
     "metadata": {},
     "output_type": "execute_result"
    }
   ],
   "source": [
    "l[0] +1"
   ]
  },
  {
   "cell_type": "code",
   "execution_count": 15,
   "id": "be568c36-de58-4711-8a95-956432d7bc85",
   "metadata": {},
   "outputs": [],
   "source": [
    "l1 = []"
   ]
  },
  {
   "cell_type": "code",
   "execution_count": 16,
   "id": "ec1c4983-7528-4f35-8dc8-88bfbf9e0bcb",
   "metadata": {},
   "outputs": [],
   "source": [
    "l1.append(l[0]+1)"
   ]
  },
  {
   "cell_type": "code",
   "execution_count": 17,
   "id": "8a3021c7-ad30-49b1-8899-02e03316ce82",
   "metadata": {},
   "outputs": [
    {
     "data": {
      "text/plain": [
       "[2]"
      ]
     },
     "execution_count": 17,
     "metadata": {},
     "output_type": "execute_result"
    }
   ],
   "source": [
    "l1"
   ]
  },
  {
   "cell_type": "code",
   "execution_count": 18,
   "id": "a02c1c5c-1988-42a6-ac1a-4e991fd5e070",
   "metadata": {},
   "outputs": [],
   "source": [
    "l =[1,2,3,4,5,6,7,8,9]"
   ]
  },
  {
   "cell_type": "code",
   "execution_count": 20,
   "id": "fedaacc1-0c87-4824-b668-184f46252573",
   "metadata": {},
   "outputs": [
    {
     "name": "stdout",
     "output_type": "stream",
     "text": [
      "1\n",
      "2\n",
      "3\n",
      "4\n",
      "5\n",
      "6\n",
      "7\n",
      "8\n",
      "9\n"
     ]
    }
   ],
   "source": [
    "for i in l:\n",
    "    print(i)"
   ]
  },
  {
   "cell_type": "code",
   "execution_count": 22,
   "id": "37182c72-b7d7-4dfe-8394-d9fdcfd5a3d7",
   "metadata": {},
   "outputs": [
    {
     "name": "stdout",
     "output_type": "stream",
     "text": [
      "2\n",
      "3\n",
      "4\n",
      "5\n",
      "6\n",
      "7\n",
      "8\n",
      "9\n",
      "10\n"
     ]
    }
   ],
   "source": [
    "l1= []\n",
    "for i in l:\n",
    "    print(i+1)"
   ]
  },
  {
   "cell_type": "code",
   "execution_count": 23,
   "id": "2c0dd040-cf10-4445-80d6-e96beb131aa8",
   "metadata": {},
   "outputs": [
    {
     "name": "stdout",
     "output_type": "stream",
     "text": [
      "2\n",
      "3\n",
      "4\n",
      "5\n",
      "6\n",
      "7\n",
      "8\n",
      "9\n",
      "10\n"
     ]
    },
    {
     "data": {
      "text/plain": [
       "[2, 3, 4, 5, 6, 7, 8, 9, 10]"
      ]
     },
     "execution_count": 23,
     "metadata": {},
     "output_type": "execute_result"
    }
   ],
   "source": [
    "l1= []\n",
    "for i in l:\n",
    "    print(i+1)\n",
    "    l1.append(i+1)\n",
    "l1    "
   ]
  },
  {
   "cell_type": "code",
   "execution_count": 24,
   "id": "aea6d5bb-b23f-4e94-97d8-59fbabb1a411",
   "metadata": {},
   "outputs": [
    {
     "data": {
      "text/plain": [
       "[1, 2, 3, 4, 5, 6, 7, 8, 9]"
      ]
     },
     "execution_count": 24,
     "metadata": {},
     "output_type": "execute_result"
    }
   ],
   "source": [
    "l"
   ]
  },
  {
   "cell_type": "code",
   "execution_count": 25,
   "id": "b57e4110-8213-4b81-8f47-788bae514c7a",
   "metadata": {},
   "outputs": [],
   "source": [
    "l = [\"isha\" ,\"singh\" , \"pwskills\" , \"course\"]"
   ]
  },
  {
   "cell_type": "code",
   "execution_count": 26,
   "id": "cb8e3072-e9ed-47da-a274-1c35cef50405",
   "metadata": {},
   "outputs": [
    {
     "name": "stdout",
     "output_type": "stream",
     "text": [
      "isha\n",
      "singh\n",
      "pwskills\n",
      "course\n"
     ]
    }
   ],
   "source": [
    "l1 =[]\n",
    "for i in l:\n",
    "    print(i)\n",
    "    l1.append(i.upper())\n"
   ]
  },
  {
   "cell_type": "code",
   "execution_count": 27,
   "id": "61aefc70-5485-4d08-91ad-4b9a6a9bcb28",
   "metadata": {},
   "outputs": [
    {
     "data": {
      "text/plain": [
       "['ISHA', 'SINGH', 'PWSKILLS', 'COURSE']"
      ]
     },
     "execution_count": 27,
     "metadata": {},
     "output_type": "execute_result"
    }
   ],
   "source": [
    "l1"
   ]
  },
  {
   "cell_type": "code",
   "execution_count": 1,
   "id": "af893654-3597-43c4-9aae-50df31f41127",
   "metadata": {},
   "outputs": [],
   "source": [
    "l = [1,2,3,4,4,\"isha\",\"singh\",324,34.456,\"abc\"]"
   ]
  },
  {
   "cell_type": "code",
   "execution_count": 2,
   "id": "fb87a3a2-5ae5-4751-89d0-36a280c33789",
   "metadata": {},
   "outputs": [],
   "source": [
    "l = [1,2,3,4,4,\"isha\",\"singh\",324,34.456,\"abc\"]"
   ]
  },
  {
   "cell_type": "code",
   "execution_count": 7,
   "id": "9a57177f-6630-4d6c-8571-b75fc01ffc32",
   "metadata": {},
   "outputs": [],
   "source": [
    "l1_num = []\n",
    "l2_str = []\n",
    "for i in l :\n",
    "    if type(i) == int or type(i) == float :\n",
    "        l1_num.append(i) \n",
    "    else :\n",
    "        l2_str.append(i)"
   ]
  },
  {
   "cell_type": "code",
   "execution_count": 8,
   "id": "9dd51ebb-d19c-41a9-a02a-7b8052cd24ad",
   "metadata": {},
   "outputs": [
    {
     "data": {
      "text/plain": [
       "[1, 2, 3, 4, 4, 324, 34.456]"
      ]
     },
     "execution_count": 8,
     "metadata": {},
     "output_type": "execute_result"
    }
   ],
   "source": [
    "l1_num"
   ]
  },
  {
   "cell_type": "code",
   "execution_count": 9,
   "id": "bd79eff3-812e-48fd-852a-683e8deabf96",
   "metadata": {},
   "outputs": [
    {
     "data": {
      "text/plain": [
       "['isha', 'singh', 'abc']"
      ]
     },
     "execution_count": 9,
     "metadata": {},
     "output_type": "execute_result"
    }
   ],
   "source": [
    "l2_str"
   ]
  },
  {
   "cell_type": "code",
   "execution_count": null,
   "id": "6536772e-eb55-4d22-93e1-31259e629831",
   "metadata": {},
   "outputs": [],
   "source": []
  }
 ],
 "metadata": {
  "kernelspec": {
   "display_name": "Python 3 (ipykernel)",
   "language": "python",
   "name": "python3"
  },
  "language_info": {
   "codemirror_mode": {
    "name": "ipython",
    "version": 3
   },
   "file_extension": ".py",
   "mimetype": "text/x-python",
   "name": "python",
   "nbconvert_exporter": "python",
   "pygments_lexer": "ipython3",
   "version": "3.10.8"
  }
 },
 "nbformat": 4,
 "nbformat_minor": 5
}
